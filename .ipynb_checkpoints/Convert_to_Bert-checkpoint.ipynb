{
 "cells": [
  {
   "cell_type": "code",
   "execution_count": 1,
   "metadata": {},
   "outputs": [
    {
     "name": "stdout",
     "output_type": "stream",
     "text": [
      "tensor([[-0.6758, -0.5441,  0.4098, -0.2151,  2.2645, -0.7924, -0.2922,  0.6647,\n",
      "         -0.6264,  0.5220],\n",
      "        [ 2.4184,  0.1644,  0.7488,  0.7936, -0.2220,  1.4000, -1.3890,  0.6897,\n",
      "          0.5276, -0.4015],\n",
      "        [ 0.9785, -0.3873, -1.2111,  0.2612, -1.7493, -0.7781, -0.1964,  0.0555,\n",
      "         -0.1326, -1.3939],\n",
      "        [-0.6760, -0.1056, -1.8227, -1.5856, -0.7985,  1.3464, -0.1571, -0.2055,\n",
      "         -1.0543,  0.2065],\n",
      "        [-0.4682, -0.2922, -0.1806, -0.6276,  0.1497, -1.3331,  0.9905, -0.2888,\n",
      "         -0.1890, -0.8824]])\n",
      "mean: tensor([[ 0.3154, -0.2330, -0.4112, -0.2747, -0.0711, -0.0314, -0.2088,  0.1831,\n",
      "         -0.2949, -0.3898]])\n",
      "standard deviation: tensor([1.3640, 0.2731, 1.0846, 0.9048, 1.4893, 1.3018, 0.8428, 0.4686, 0.5917,\n",
      "        0.7807])\n",
      "tensor([[ 0.4502,  2.7443,  0.1953],\n",
      "        [-3.5787, -0.1301, -0.5943],\n",
      "        [-0.0848, -1.5358,  1.2320],\n",
      "        [ 1.8211, -0.7697, -2.2158],\n",
      "        [ 1.3923, -0.3086,  1.3827]])\n"
     ]
    }
   ],
   "source": [
    "import get_bert_embeddings as gbe"
   ]
  },
  {
   "cell_type": "code",
   "execution_count": 2,
   "metadata": {},
   "outputs": [
    {
     "ename": "NameError",
     "evalue": "name 'sample_embedding_raw' is not defined",
     "output_type": "error",
     "traceback": [
      "\u001b[1;31m---------------------------------------------------------------------------\u001b[0m",
      "\u001b[1;31mNameError\u001b[0m                                 Traceback (most recent call last)",
      "\u001b[1;32m<ipython-input-2-795170540d00>\u001b[0m in \u001b[0;36m<module>\u001b[1;34m\u001b[0m\n\u001b[0;32m      1\u001b[0m \u001b[0mtext\u001b[0m \u001b[1;33m=\u001b[0m \u001b[1;34m\"I want to eat a lot of icecream\"\u001b[0m\u001b[1;33m\u001b[0m\u001b[1;33m\u001b[0m\u001b[0m\n\u001b[0;32m      2\u001b[0m \u001b[0membedding_raw\u001b[0m \u001b[1;33m=\u001b[0m \u001b[0mgbe\u001b[0m\u001b[1;33m.\u001b[0m\u001b[0mget_embeddings\u001b[0m\u001b[1;33m(\u001b[0m\u001b[0mtext\u001b[0m\u001b[1;33m)\u001b[0m\u001b[1;33m\u001b[0m\u001b[1;33m\u001b[0m\u001b[0m\n\u001b[1;32m----> 3\u001b[1;33m \u001b[0mprint\u001b[0m\u001b[1;33m(\u001b[0m\u001b[0msample_embedding_raw\u001b[0m\u001b[1;33m)\u001b[0m\u001b[1;33m\u001b[0m\u001b[1;33m\u001b[0m\u001b[0m\n\u001b[0m\u001b[0;32m      4\u001b[0m \u001b[0mprint\u001b[0m\u001b[1;33m(\u001b[0m\u001b[0msample_embedding_raw\u001b[0m\u001b[1;33m.\u001b[0m\u001b[0msize\u001b[0m\u001b[1;33m(\u001b[0m\u001b[1;33m)\u001b[0m\u001b[1;33m)\u001b[0m\u001b[1;33m\u001b[0m\u001b[1;33m\u001b[0m\u001b[0m\n",
      "\u001b[1;31mNameError\u001b[0m: name 'sample_embedding_raw' is not defined"
     ]
    }
   ],
   "source": [
    "text = \"I want to eat a lot of icecream\"\n",
    "sample_embedding_raw = gbe.get_embeddings(text)\n",
    "print(sample_embedding_raw)\n",
    "print(sample_embedding_raw.size())"
   ]
  },
  {
   "cell_type": "code",
   "execution_count": null,
   "metadata": {},
   "outputs": [],
   "source": []
  },
  {
   "cell_type": "code",
   "execution_count": null,
   "metadata": {},
   "outputs": [],
   "source": [
    "k = 10\n",
    "embeddings_reduced = gbe.get_pca(embedding_raw, k, verbose = False)\n",
    "print(embedding_reduced)"
   ]
  },
  {
   "cell_type": "code",
   "execution_count": null,
   "metadata": {},
   "outputs": [],
   "source": []
  }
 ],
 "metadata": {
  "kernelspec": {
   "display_name": "Python 3",
   "language": "python",
   "name": "python3"
  },
  "language_info": {
   "codemirror_mode": {
    "name": "ipython",
    "version": 3
   },
   "file_extension": ".py",
   "mimetype": "text/x-python",
   "name": "python",
   "nbconvert_exporter": "python",
   "pygments_lexer": "ipython3",
   "version": "3.8.3"
  }
 },
 "nbformat": 4,
 "nbformat_minor": 4
}
